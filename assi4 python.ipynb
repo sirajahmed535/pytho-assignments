{
 "cells": [
  {
   "cell_type": "code",
   "execution_count": 1,
   "metadata": {},
   "outputs": [
    {
     "name": "stdout",
     "output_type": "stream",
     "text": [
      "first_name : arif\n",
      "last_name : Sanaullah\n",
      "city : Karachi\n",
      "age : 24\n"
     ]
    }
   ],
   "source": [
    "# Use a dictionary to store information about a person you know. Store their first name,\n",
    "# last name, age, and the city in which they live. You should have keys such as first_name, \n",
    "# last_name, age, and city. Print each piece of information stored in your dictionary. \n",
    "# Add a new key value pair about qualification then update the qualification value to high \n",
    "# academic level then delete it.\n",
    "person_info = {\"first_name\": \"arif\", \"last_name\": \"Sanaullah\", \"city\": \"Karachi\", \"age\": 24}\n",
    "person_info[\"qualification\"] = \"Graduation\"\n",
    "person_info[\"qualification\"] = \"PhD\"\n",
    "person_info.pop(\"qualification\")\n",
    "for key, value in person_info.items():\n",
    "    print(key,\":\", value)"
   ]
  },
  {
   "cell_type": "code",
   "execution_count": 2,
   "metadata": {},
   "outputs": [
    {
     "name": "stdout",
     "output_type": "stream",
     "text": [
      "karachi {'countery': 'Pakistan', 'population': '230M', 'face': 'Karachi is for everyone'}\n",
      "mumbai {'countery': 'India', 'population': '200M', 'face': 'Very hot'}\n",
      "tokyo {'countery': 'Japan', 'population': '13.9M', 'face': 'Tech Hub'}\n"
     ]
    }
   ],
   "source": [
    "# Make a dictionary called cities. Use the names of three cities as keys in your dictionary. \n",
    "# Create a dictionary of information about each city and include the country that the city is in, \n",
    "# its approximate population, and one fact about that city. The keys for each city’s dictionary should be \n",
    "# something like country, population, and fact. Print the name of each city and all of the information you \n",
    "# have stored about it.\n",
    "cities = {\n",
    "    \"karachi\":{\n",
    "        \"countery\": \"Pakistan\",\n",
    "        \"population\": \"230M\",\n",
    "        \"face\":\"Karachi is for everyone\",\n",
    "    },\n",
    "    \"mumbai\":{\n",
    "        \"countery\": \"India\",\n",
    "        \"population\": \"200M\",\n",
    "        \"face\": \"Very hot\",\n",
    "    },\n",
    "    \"tokyo\":{\n",
    "        \"countery\": \"Japan\",\n",
    "        \"population\": \"13.9M\",\n",
    "        \"face\": \"Tech Hub\",\n",
    "    },\n",
    "}\n",
    "for key, value in cities.items():\n",
    "    print(key, value)"
   ]
  },
  {
   "cell_type": "code",
   "execution_count": null,
   "metadata": {},
   "outputs": [
    {
     "name": "stdout",
     "output_type": "stream",
     "text": [
      "Enter your age: 23\n",
      "The ticket for you is $15.\n",
      "Enter your age: 2\n",
      "The ticket for you is free.\n"
     ]
    }
   ],
   "source": [
    "# A movie theater charges different ticket prices depending on a person’s age. If a person is under the age of 3, \n",
    "# the ticket is free; if they are between 3 and 12, the ticket is $10; and if they are over age 12, the ticket is \n",
    "# $15. Write a loop in which you ask users their age, and then tell them the cost of their movie ticket.\n",
    "for i in range(1,4):\n",
    "    age = int(input(\"Enter your age: \"))\n",
    "    if age>0 and age<3:\n",
    "        print(\"The ticket for you is free.\")\n",
    "    elif age>3 and age<13:\n",
    "        print(\"The tick for you us $10.\")\n",
    "    else:\n",
    "        print(\"The ticket for you is $15.\")"
   ]
  },
  {
   "cell_type": "code",
   "execution_count": null,
   "metadata": {},
   "outputs": [],
   "source": [
    "# Write a function called favorite_book() that accepts one parameter, title. The function should print a message, \n",
    "# such as One of my favorite books is Alice in Wonderland. Call the function, making sure to include a book title \n",
    "# as an argument in the function call.\n",
    "def favorite_book(title):\n",
    "    print(\"One of my favorite books is\", title)\n",
    "favorite_book(\"Learn Python the Hard Way\")"
   ]
  },
  {
   "cell_type": "code",
   "execution_count": null,
   "metadata": {},
   "outputs": [],
   "source": []
  }
 ],
 "metadata": {
  "kernelspec": {
   "display_name": "Python 3",
   "language": "python",
   "name": "python3"
  },
  "language_info": {
   "codemirror_mode": {
    "name": "ipython",
    "version": 3
   },
   "file_extension": ".py",
   "mimetype": "text/x-python",
   "name": "python",
   "nbconvert_exporter": "python",
   "pygments_lexer": "ipython3",
   "version": "3.7.4"
  }
 },
 "nbformat": 4,
 "nbformat_minor": 2
}
