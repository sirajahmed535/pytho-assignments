{
 "cells": [
  {
   "cell_type": "code",
   "execution_count": 1,
   "metadata": {},
   "outputs": [
    {
     "ename": "SyntaxError",
     "evalue": "Missing parentheses in call to 'print'. Did you mean print(\"Twinkle,\" \"twinkle,\" \"little star,\")? (<ipython-input-1-3852331f2e2d>, line 1)",
     "output_type": "error",
     "traceback": [
      "\u001b[1;36m  File \u001b[1;32m\"<ipython-input-1-3852331f2e2d>\"\u001b[1;36m, line \u001b[1;32m1\u001b[0m\n\u001b[1;33m    print \"Twinkle,\" \"twinkle,\" \"little star,\";\u001b[0m\n\u001b[1;37m                   ^\u001b[0m\n\u001b[1;31mSyntaxError\u001b[0m\u001b[1;31m:\u001b[0m Missing parentheses in call to 'print'. Did you mean print(\"Twinkle,\" \"twinkle,\" \"little star,\")?\n"
     ]
    }
   ],
   "source": [
    "print \"Twinkle,\" \"twinkle,\" \"little star,\"; "
   ]
  },
  {
   "cell_type": "code",
   "execution_count": 2,
   "metadata": {},
   "outputs": [
    {
     "name": "stdout",
     "output_type": "stream",
     "text": [
      "Twinkle,twinkle,little star,\n"
     ]
    }
   ],
   "source": [
    "print (\"Twinkle,\" \"twinkle,\" \"little star,\"); "
   ]
  },
  {
   "cell_type": "code",
   "execution_count": 3,
   "metadata": {},
   "outputs": [
    {
     "name": "stdout",
     "output_type": "stream",
     "text": [
      "Twinkle, twinkle, little star,\n"
     ]
    }
   ],
   "source": [
    "print (\"Twinkle,\" \" \" \"twinkle,\" \" \" \"little star,\"); "
   ]
  },
  {
   "cell_type": "code",
   "execution_count": 4,
   "metadata": {},
   "outputs": [
    {
     "name": "stdout",
     "output_type": "stream",
     "text": [
      "Twinkle, twinkle, little star,\n",
      "   How I wonder what you are!\n"
     ]
    }
   ],
   "source": [
    "print (\"Twinkle,\" \" \" \"twinkle,\" \" \" \"little star,\");\n",
    "print (\" \" \" \" \" \" \"How I wonder what you are!\");"
   ]
  },
  {
   "cell_type": "code",
   "execution_count": 5,
   "metadata": {},
   "outputs": [
    {
     "name": "stdout",
     "output_type": "stream",
     "text": [
      "Twinkle, twinkle, little star,\n",
      "     How I wonder what you are!\n"
     ]
    }
   ],
   "source": [
    "print (\"Twinkle,\" \" \" \"twinkle,\" \" \" \"little star,\");\n",
    "print (\" \" \" \" \" \" \" \" \" \" \"How I wonder what you are!\");"
   ]
  },
  {
   "cell_type": "code",
   "execution_count": 9,
   "metadata": {},
   "outputs": [
    {
     "name": "stdout",
     "output_type": "stream",
     "text": [
      "Twinkle, twinkle, little star,\n",
      "      How I wonder what you are!\n",
      "            Up above the world so high,\n",
      "            Like a diamond in the sky.\n",
      "Twinkle, twinkle, little star,\n",
      "      How I wonder what you are!\n"
     ]
    }
   ],
   "source": [
    "var1 = (\"Twinkle,\" \" \" \"twinkle,\" \" \" \"little star,\");\n",
    "var2 = (\" \" \" \" \" \" \" \" \" \" \" \" \"How I wonder what you are!\");\n",
    "print (var1);\n",
    "print (var2);\n",
    "print (\" \" \" \" \" \" \" \" \" \" \" \" \" \" \" \" \" \" \" \" \" \" \" \" \"Up above the world so high,\");\n",
    "print (\" \" \" \" \" \" \" \" \" \" \" \" \" \" \" \" \" \" \" \" \" \" \" \" \"Like a diamond in the sky.\");\n",
    "print (var1);\n",
    "print (var2);"
   ]
  },
  {
   "cell_type": "code",
   "execution_count": null,
   "metadata": {},
   "outputs": [],
   "source": []
  },
  {
   "cell_type": "code",
   "execution_count": null,
   "metadata": {},
   "outputs": [],
   "source": []
  },
  {
   "cell_type": "code",
   "execution_count": null,
   "metadata": {},
   "outputs": [],
   "source": []
  },
  {
   "cell_type": "code",
   "execution_count": null,
   "metadata": {},
   "outputs": [],
   "source": []
  }
 ],
 "metadata": {
  "kernelspec": {
   "display_name": "Python 3",
   "language": "python",
   "name": "python3"
  },
  "language_info": {
   "codemirror_mode": {
    "name": "ipython",
    "version": 3
   },
   "file_extension": ".py",
   "mimetype": "text/x-python",
   "name": "python",
   "nbconvert_exporter": "python",
   "pygments_lexer": "ipython3",
   "version": "3.7.4"
  }
 },
 "nbformat": 4,
 "nbformat_minor": 2
}
