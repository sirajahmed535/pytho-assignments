{
 "cells": [
  {
   "cell_type": "code",
   "execution_count": 1,
   "metadata": {},
   "outputs": [],
   "source": [
    "#1st question\n",
    "#Object-oriented programming (OOP) refers to a type of computer programming \n",
    "#(software design) in which programmers define the data type of a data structure,\n",
    "#and also the types of operations (functions) that can be applied to the data structure."
   ]
  },
  {
   "cell_type": "code",
   "execution_count": 2,
   "metadata": {},
   "outputs": [],
   "source": [
    "#2nd question\n",
    "# 1 Modularity for easier troubleshooting.\n",
    "# 2 Reuse of code through inheritance.\n",
    "# 3 Flexibility through polymorphism.\n",
    "# 4 Effective problem solving."
   ]
  },
  {
   "cell_type": "code",
   "execution_count": 3,
   "metadata": {},
   "outputs": [],
   "source": [
    "#3rd question\n",
    "# A function is a piece of code that is called by name. \n",
    "#It can be passed data to operate on (i.e. the parameters) and \n",
    "#can optionally return data (the return value). \n",
    "#All data that is passed to a function is explicitly passed."
   ]
  },
  {
   "cell_type": "code",
   "execution_count": 4,
   "metadata": {},
   "outputs": [],
   "source": [
    "#4th question\n",
    "#Classes and Objects are basic concepts of Object Oriented Programming which \n",
    "#revolve around the real life entities. Class. A class is a user defined blueprint \n",
    "#or prototype from which objects are created.\n",
    "\n",
    "#In object-oriented programming (OOP), objects are the things you think about\n",
    "#first in designing a program and they are also the units of code that are eventually \n",
    "#derived from the process. ... Each object is an instance of a particular class or subclass\n",
    "#with the class's own methods or procedures and data variables.\n",
    "\n",
    "\n",
    "#In general, an attribute is a property or characteristic. \n",
    "#Color, for example, is an attribute of your hair. \n",
    "#In using or programming computers, an attribute is a changeable\n",
    "#property or characteristic of some component of a program that can be set to different values.\n",
    "\n",
    "#The behavior of an object is defined by its methods,\n",
    "#which are the functions and subroutines defined within the object class. \n",
    "#Without class methods, a class would simply be a structure.\n",
    "#Methods determine what type of functionality a class has, \n",
    "#how it modifies its data, and its overall behavior"
   ]
  },
  {
   "cell_type": "code",
   "execution_count": 5,
   "metadata": {},
   "outputs": [
    {
     "ename": "TypeError",
     "evalue": "__init__() missing 3 required positional arguments: 'year', 'make', and 'speed'",
     "output_type": "error",
     "traceback": [
      "\u001b[1;31m---------------------------------------------------------------------------\u001b[0m",
      "\u001b[1;31mTypeError\u001b[0m                                 Traceback (most recent call last)",
      "\u001b[1;32m<ipython-input-5-b01630611f01>\u001b[0m in \u001b[0;36m<module>\u001b[1;34m\u001b[0m\n\u001b[0;32m     70\u001b[0m     \u001b[0mprint\u001b[0m\u001b[1;33m(\u001b[0m\u001b[1;34m'My current speed after brake:'\u001b[0m\u001b[1;33m,\u001b[0m\u001b[0mmy_car\u001b[0m\u001b[1;33m.\u001b[0m\u001b[0mget_speed\u001b[0m\u001b[1;33m(\u001b[0m\u001b[1;33m)\u001b[0m\u001b[1;33m)\u001b[0m\u001b[1;33m\u001b[0m\u001b[1;33m\u001b[0m\u001b[0m\n\u001b[0;32m     71\u001b[0m \u001b[1;33m\u001b[0m\u001b[0m\n\u001b[1;32m---> 72\u001b[1;33m \u001b[0mmain\u001b[0m\u001b[1;33m(\u001b[0m\u001b[1;33m)\u001b[0m\u001b[1;33m\u001b[0m\u001b[1;33m\u001b[0m\u001b[0m\n\u001b[0m",
      "\u001b[1;32m<ipython-input-5-b01630611f01>\u001b[0m in \u001b[0;36mmain\u001b[1;34m()\u001b[0m\n\u001b[0;32m     39\u001b[0m \u001b[1;31m#create car object\u001b[0m\u001b[1;33m\u001b[0m\u001b[1;33m\u001b[0m\u001b[1;33m\u001b[0m\u001b[0m\n\u001b[0;32m     40\u001b[0m \u001b[1;32mdef\u001b[0m \u001b[0mmain\u001b[0m\u001b[1;33m(\u001b[0m\u001b[1;33m)\u001b[0m\u001b[1;33m:\u001b[0m\u001b[1;33m\u001b[0m\u001b[1;33m\u001b[0m\u001b[0m\n\u001b[1;32m---> 41\u001b[1;33m     \u001b[0mmy_car\u001b[0m\u001b[1;33m=\u001b[0m\u001b[0mCar\u001b[0m\u001b[1;33m(\u001b[0m\u001b[1;33m)\u001b[0m\u001b[1;33m\u001b[0m\u001b[1;33m\u001b[0m\u001b[0m\n\u001b[0m\u001b[0;32m     42\u001b[0m \u001b[1;33m\u001b[0m\u001b[0m\n\u001b[0;32m     43\u001b[0m     \u001b[0myear\u001b[0m\u001b[1;33m=\u001b[0m\u001b[0mprint\u001b[0m\u001b[1;33m(\u001b[0m\u001b[0minput\u001b[0m\u001b[1;33m(\u001b[0m\u001b[1;34m'car year: '\u001b[0m\u001b[1;33m)\u001b[0m\u001b[1;33m)\u001b[0m\u001b[1;33m\u001b[0m\u001b[1;33m\u001b[0m\u001b[0m\n",
      "\u001b[1;31mTypeError\u001b[0m: __init__() missing 3 required positional arguments: 'year', 'make', and 'speed'"
     ]
    }
   ],
   "source": [
    "class Car:\n",
    "    def __init__(self,year,make,speed):\n",
    "        self.__year_model=year\n",
    "        self.__make=make\n",
    "        self.__speed=0\n",
    "\n",
    "    #set the arguments for speed,year, and make\n",
    "    def set_year_model(self,year):\n",
    "        self.__year_model=year\n",
    "\n",
    "    def set_make(self,make):\n",
    "        self.__make=make\n",
    "\n",
    "    def set_speed(self,speed):\n",
    "        self.__speed=0\n",
    "\n",
    "    #the returns for speed, year, and make\n",
    "    def get_year_model(self):\n",
    "        return self.__year_model\n",
    "\n",
    "    def get_make(self):\n",
    "        return self.__make\n",
    "\n",
    "    def get_speed(self):\n",
    "        return self.__speed\n",
    "\n",
    "\n",
    "    #methods\n",
    "    def accelerate(self):\n",
    "        self.speed +=5\n",
    "\n",
    "    def brake(self):\n",
    "        self.speed-=5\n",
    "\n",
    "    def get_speed(self):\n",
    "        return self.speed\n",
    "\n",
    "#actuall program\n",
    "#create car object\n",
    "def main():\n",
    "    my_car=Car()\n",
    "\n",
    "    year=print(input('car year: '))\n",
    "    make=print(input('car make: '))\n",
    "    speed= print('Current speed is 0')\n",
    "\n",
    "    #accelerate 5 times\n",
    "\n",
    "    my_car.accelerate()\n",
    "    print('My current speed:',my_car.get_speed())\n",
    "    my_car.accelerate()\n",
    "    print('My current speed:',my_car.get_speed())\n",
    "    my_car.accelerate()\n",
    "    print('My current speed:',my_car.get_speed())\n",
    "    my_car.accelerate()\n",
    "    print('My current speed:',my_car.get_speed())\n",
    "    my_car.accelerate()\n",
    "    print('My current speed:',my_car.get_speed())\n",
    "\n",
    "    #brake five times\n",
    "    my_car.brake()\n",
    "    print('My current speed after brake:',my_car.get_speed())\n",
    "    my_car.brake()\n",
    "    print('My current speed after brake:',my_car.get_speed())\n",
    "    my_car.brake()\n",
    "    print('My current speed after brake:',my_car.get_speed())\n",
    "    my_car.brake()\n",
    "    print('My current speed after brake:',my_car.get_speed())\n",
    "    my_car.brake()\n",
    "    print('My current speed after brake:',my_car.get_speed())\n",
    "\n",
    "main()\n"
   ]
  },
  {
   "cell_type": "code",
   "execution_count": null,
   "metadata": {},
   "outputs": [],
   "source": []
  }
 ],
 "metadata": {
  "kernelspec": {
   "display_name": "Python 3",
   "language": "python",
   "name": "python3"
  },
  "language_info": {
   "codemirror_mode": {
    "name": "ipython",
    "version": 3
   },
   "file_extension": ".py",
   "mimetype": "text/x-python",
   "name": "python",
   "nbconvert_exporter": "python",
   "pygments_lexer": "ipython3",
   "version": "3.7.4"
  }
 },
 "nbformat": 4,
 "nbformat_minor": 2
}
